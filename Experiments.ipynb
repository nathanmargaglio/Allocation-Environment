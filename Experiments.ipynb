{
 "cells": [
  {
   "cell_type": "code",
   "execution_count": 9,
   "metadata": {},
   "outputs": [
    {
     "name": "stdout",
     "output_type": "stream",
     "text": [
      "The autoreload extension is already loaded. To reload it, use:\n",
      "  %reload_ext autoreload\n"
     ]
    }
   ],
   "source": [
    "%load_ext autoreload\n",
    "%autoreload 2"
   ]
  },
  {
   "cell_type": "code",
   "execution_count": 12,
   "metadata": {},
   "outputs": [],
   "source": [
    "import gym\n",
    "import gym_disaster"
   ]
  },
  {
   "cell_type": "markdown",
   "metadata": {},
   "source": [
    "## Sub-Environment Definition"
   ]
  },
  {
   "cell_type": "markdown",
   "metadata": {},
   "source": [
    "In its simplest form, we need the sub-environment, `Disaster-v0`, to have the following characteristics:\n",
    "\n",
    "- The Sub-Environment should be ran by a Sub-Agent (e.g., A2C)\n",
    "- The env should produce, as observations, information only pertinent to itself (e.g., it's unaware of the other sub-environment instances)\n",
    "- The action the environment accepts should come from the allocation agent\n",
    "\n",
    "In itself, the environment should be self-sustaining as an environment suitable for RL.  It's recieved actions should only be *adjusted* by the allocation agent, not determined.  The associated sub-agent determines the actual action.\n",
    "\n",
    "For our Snow Plow example, the finite resource we need to allocate is available plows.  Each sub-environment represents a region that may require plowing.  Reward is dictated by the accumulation of snow and the number of plows present."
   ]
  },
  {
   "cell_type": "code",
   "execution_count": 114,
   "metadata": {},
   "outputs": [
    {
     "name": "stdout",
     "output_type": "stream",
     "text": [
      "Iteration: 0\n",
      "Current Plows: 0.0\n",
      "Current Accumulation: 0.0\n",
      "Realized Fall: 0.0\n",
      "Forecasted Mean: 1\n",
      "Forecasted Variance: 0.7530761848882551\n",
      "Reward: None\n"
     ]
    }
   ],
   "source": [
    "env = gym.make('Disaster-v0')\n",
    "env.reset()\n",
    "env.render()"
   ]
  },
  {
   "cell_type": "code",
   "execution_count": 134,
   "metadata": {},
   "outputs": [
    {
     "name": "stdout",
     "output_type": "stream",
     "text": [
      "[0.         0.         0.5        0.09832879]\n",
      "Iteration: 0\n",
      "Current Plows: 0.0\n",
      "Current Accumulation: 0.0\n",
      "Realized Fall: 0.0\n",
      "Forecasted Mean: 2\n",
      "Forecasted Variance: 0.09832879163710484\n",
      "Reward: None\n",
      "\n",
      "Iteration: 1\n",
      "Current Plows: 1\n",
      "Current Accumulation: 2.017536855666698\n",
      "Realized Fall: 2.017536855666698\n",
      "Forecasted Mean: 1\n",
      "Forecasted Variance: 0.174106930854383\n",
      "Reward: -2.017536855666698\n",
      "\n",
      "Iteration: 2\n",
      "Current Plows: 1\n",
      "Current Accumulation: 0.523841212702683\n",
      "Realized Fall: 0.5063043570359849\n",
      "Forecasted Mean: 1\n",
      "Forecasted Variance: 0.40105509600819067\n",
      "Reward: -1.523841212702683\n",
      "\n",
      "Iteration: 3\n",
      "Current Plows: 1\n",
      "Current Accumulation: 0\n",
      "Realized Fall: 1.440582560949931\n",
      "Forecasted Mean: 0\n",
      "Forecasted Variance: 0.5710913429153879\n",
      "Reward: -1.0\n",
      "\n",
      "Iteration: 4\n",
      "Current Plows: 0\n",
      "Current Accumulation: 0\n",
      "Realized Fall: -0.588788890311019\n",
      "Forecasted Mean: 1\n",
      "Forecasted Variance: 0.18846536806363257\n",
      "Reward: -1.0\n",
      "\n",
      "Iteration: 5\n",
      "Current Plows: 1\n",
      "Current Accumulation: 0.8881410205568239\n",
      "Realized Fall: 0.8881410205568239\n",
      "Forecasted Mean: 1\n",
      "Forecasted Variance: 0.6079441193664586\n",
      "Reward: -0.8881410205568239\n",
      "\n",
      "Iteration: 6\n",
      "Current Plows: 1\n",
      "Current Accumulation: 1.2059953419126037\n",
      "Realized Fall: 2.31785432135578\n",
      "Forecasted Mean: 2\n",
      "Forecasted Variance: 0.01766924476742182\n",
      "Reward: -2.2059953419126037\n",
      "\n",
      "Iteration: 7\n",
      "Current Plows: 1\n",
      "Current Accumulation: 1.2049452946852361\n",
      "Realized Fall: 1.9989499527726324\n",
      "Forecasted Mean: 0\n",
      "Forecasted Variance: 0.9302939431053916\n",
      "Reward: -2.204945294685236\n",
      "\n",
      "Iteration: 8\n",
      "Current Plows: 1\n",
      "Current Accumulation: 0.21843945259880826\n",
      "Realized Fall: 1.013494157913572\n",
      "Forecasted Mean: 0\n",
      "Forecasted Variance: 0.7716990199072461\n",
      "Reward: -1.2184394525988083\n",
      "\n",
      "Iteration: 9\n",
      "Current Plows: 1\n",
      "Current Accumulation: 0\n",
      "Realized Fall: -0.9378655241352413\n",
      "Forecasted Mean: 2\n",
      "Forecasted Variance: 0.6101986010925934\n",
      "Reward: -1.0\n",
      "\n",
      "Iteration: 10\n",
      "Current Plows: 0\n",
      "Current Accumulation: 0\n",
      "Realized Fall: 1.5274526464462281\n",
      "Forecasted Mean: 2\n",
      "Forecasted Variance: 0.05601593996073073\n",
      "Reward: -1.0\n",
      "\n",
      "Total Reward: -14.058899178122854\n"
     ]
    }
   ],
   "source": [
    "def get_plows(obs):\n",
    "    if obs[0] > 0 and obs[1] == 0.:\n",
    "        plows = 0\n",
    "    else:\n",
    "        plows = 1\n",
    "    return plows\n",
    "\n",
    "env = gym.make('Disaster-v0')\n",
    "obs = env.reset()\n",
    "print(obs)\n",
    "plows = get_plows(obs)\n",
    "env.render()\n",
    "print()\n",
    "done = False\n",
    "total_reward = 0.\n",
    "\n",
    "while not done:\n",
    "    obs, reward, done, info = env.step(plows)\n",
    "    plows = get_plows(obs)\n",
    "    env.render()\n",
    "    print()\n",
    "    \n",
    "    total_reward += reward\n",
    "    if done:\n",
    "        print('Total Reward:', total_reward)\n",
    "        break"
   ]
  },
  {
   "cell_type": "code",
   "execution_count": null,
   "metadata": {},
   "outputs": [],
   "source": []
  }
 ],
 "metadata": {
  "kernelspec": {
   "display_name": "disaster",
   "language": "python",
   "name": "disaster"
  },
  "language_info": {
   "codemirror_mode": {
    "name": "ipython",
    "version": 3
   },
   "file_extension": ".py",
   "mimetype": "text/x-python",
   "name": "python",
   "nbconvert_exporter": "python",
   "pygments_lexer": "ipython3",
   "version": "3.7.2"
  }
 },
 "nbformat": 4,
 "nbformat_minor": 2
}
